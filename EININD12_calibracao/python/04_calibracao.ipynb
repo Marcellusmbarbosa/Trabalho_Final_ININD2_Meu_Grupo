{
  "cells": [
    {
      "cell_type": "code",
      "execution_count": 1,
      "metadata": {
        "id": "THlmtrZLqhmo"
      },
      "outputs": [],
      "source": [
        "from scipy.stats import t\n",
        "from scipy.linalg import pinvh as inv\n",
        "from numpy.linalg import lstsq\n",
        "import numpy.matlib as mb\n",
        "import ipywidgets as widgets\n",
        "import math as mt\n",
        "import numpy as np\n",
        "import pandas as pd\n",
        "import re   "
      ]
    },
    {
      "cell_type": "markdown",
      "metadata": {
        "id": "tE1PP1ssSnRy"
      },
      "source": [
        "# Calibração"
      ]
    },
    {
      "cell_type": "code",
      "execution_count": 2,
      "metadata": {
        "id": "niFZUHFGSaqU"
      },
      "outputs": [],
      "source": [
        "def MMQ(y, mx):\n",
        "  coef = (inv(mx.T @ mx)) @ (mx.T @ y) # Faz a linearização com os dados\n",
        "  return (coef)"
      ]
    },
    {
      "cell_type": "code",
      "execution_count": 3,
      "metadata": {
        "id": "4rpNL-sUg5Sx"
      },
      "outputs": [],
      "source": [
        "def RMSE(yReal, yEstimado): # root-mean-square deviation\n",
        "  residuos = np.sum(np.power((yReal - yEstimado),2))**0.5\n",
        "  return(residuos)"
      ]
    },
    {
      "cell_type": "code",
      "execution_count": 4,
      "metadata": {},
      "outputs": [],
      "source": [
        "def calcular_r2(y_true, y_pred):\n",
        "    \"\"\"\n",
        "    Calcula o coeficiente de determinação R².\n",
        "    \n",
        "    Parâmetros:\n",
        "    y_true: array-like, Valores observados (reais).\n",
        "    y_pred: array-like, Valores preditos pelo modelo.\n",
        "    \n",
        "    Retorno:\n",
        "    r2: float, Coeficiente de determinação R².\n",
        "    \"\"\"\n",
        "    # Converter para arrays do NumPy, caso não sejam\n",
        "    y_true = np.array(y_true)\n",
        "    y_pred = np.array(y_pred)\n",
        "    \n",
        "    # Média dos valores observados\n",
        "    y_mean = np.mean(y_true)\n",
        "    \n",
        "    # Soma dos quadrados dos resíduos (SSR)\n",
        "    ss_res = np.sum((y_true - y_pred) ** 2)\n",
        "    \n",
        "    # Soma total dos quadrados (SST)\n",
        "    ss_tot = np.sum((y_true - y_mean) ** 2)\n",
        "    \n",
        "    # Cálculo de R²\n",
        "    r2 = 1 - (ss_res / ss_tot)\n",
        "    \n",
        "    return r2"
      ]
    },
    {
      "cell_type": "markdown",
      "metadata": {
        "id": "obBN3LMNi5Pl"
      },
      "source": [
        "## Caso 1: Sistema de 1º Ordem sendo avaliado por diversas ordens"
      ]
    },
    {
      "cell_type": "code",
      "execution_count": 5,
      "metadata": {
        "id": "TdX-MdZesT8-"
      },
      "outputs": [],
      "source": [
        "x = np.matrix(np.arange(0,10,1)+np.random.uniform(0,1,10))\n",
        "y = np.matrix((56*x+32)+(np.random.uniform(0,1,10)))"
      ]
    },
    {
      "cell_type": "code",
      "execution_count": 6,
      "metadata": {
        "colab": {
          "base_uri": "https://localhost:8080/"
        },
        "id": "JRaZlrBwYzqz",
        "outputId": "ffd3258c-14db-4f5b-c778-cd9d1b50d45a"
      },
      "outputs": [
        {
          "name": "stdout",
          "output_type": "stream",
          "text": [
            "[[56.01041258]] [[32.41358978]]\n",
            "[[ 50.45141311  96.19872806 152.24076361 217.13851088 265.20751449\n",
            "  324.23346827 400.91060657 438.21863809 501.40941855 583.04644744]] \n",
            " [[ 50.29955822  96.42430241 152.31238403 216.94355421 265.07437106\n",
            "  324.52775478 400.49386133 438.39726884 501.75633151 582.82612268]]\n",
            "0.7719392147101825\n",
            "0.9999979031981612\n"
          ]
        }
      ],
      "source": [
        "tam = np.size(x.T,0) # Quantidade de valores analisados\n",
        "mx = np.concatenate((x.T, np.ones((tam,1))),1)\n",
        "a, b = MMQ(y.T,mx)\n",
        "yEstimado = a*x+b # Y estimado\n",
        "print(a, b)\n",
        "print(y, '\\n', yEstimado)\n",
        "print(RMSE(y,yEstimado))\n",
        "print(calcular_r2(y,yEstimado))"
      ]
    },
    {
      "cell_type": "code",
      "execution_count": 7,
      "metadata": {
        "colab": {
          "base_uri": "https://localhost:8080/"
        },
        "id": "PinRqflZd-E5",
        "outputId": "2c350d3a-62cf-464b-a951-5fb21404b6f9"
      },
      "outputs": [
        {
          "name": "stdout",
          "output_type": "stream",
          "text": [
            "[[0.00203097]] [[55.99026073]] [[32.44514439]]\n",
            "[[ 50.45141311  96.19872806 152.24076361 217.13851088 265.20751449\n",
            "  324.23346827 400.91060657 438.21863809 501.40941855 583.04644744]] \n",
            " [[ 50.32488479  96.43547935 152.31010724 216.93076171 265.05726111\n",
            "  324.50945259 400.48069566 438.38946021 501.76163126 582.85577516]]\n",
            "0.7701854146018471\n",
            "0.999997912714957\n"
          ]
        }
      ],
      "source": [
        "tam = np.size(x.T,0) # Quantidade de valores analisados\n",
        "mx = np.concatenate((np.power(x.T,2), x.T, np.ones((tam,1))),1)\n",
        "a, b, c = MMQ(y.T,mx)\n",
        "yEstimado = a*np.power(x,2)+b*x+c # Y estimado\n",
        "print(a, b, c)\n",
        "print(y, '\\n', yEstimado)\n",
        "print(RMSE(y,yEstimado))\n",
        "print(calcular_r2(y,yEstimado))"
      ]
    },
    {
      "cell_type": "code",
      "execution_count": 8,
      "metadata": {
        "colab": {
          "base_uri": "https://localhost:8080/"
        },
        "id": "3alDMVN8etLJ",
        "outputId": "a333b214-7311-414b-b8b0-123855547457"
      },
      "outputs": [
        {
          "name": "stdout",
          "output_type": "stream",
          "text": [
            "[[0.00194795]] [[-0.02760941]] [[56.10874764]] [[32.35301522]]\n",
            "[[ 50.45141311  96.19872806 152.24076361 217.13851088 265.20751449\n",
            "  324.23346827 400.91060657 438.21863809 501.40941855 583.04644744]] \n",
            " [[ 50.26763329  96.44295632 152.35490151 216.97693205 265.08549305\n",
            "  324.50538909 400.43999584 438.34071575 501.72725968 582.91423249]]\n",
            "0.7591238299130486\n",
            "0.9999979722405654\n"
          ]
        }
      ],
      "source": [
        "tam = np.size(x.T,0) # Quantidade de valores analisados\n",
        "mx = np.concatenate((np.power(x.T,3), np.power(x.T,2), x.T, np.ones((tam,1))),1)\n",
        "a, b, c, d = MMQ(y.T,mx)\n",
        "yEstimado = a*np.power(x,3)+b*np.power(x,2)+c*x+d # Y estimado\n",
        "print(a, b, c, d)\n",
        "print(y, '\\n', yEstimado)\n",
        "print(RMSE(y,yEstimado))\n",
        "print(calcular_r2(y,yEstimado))"
      ]
    },
    {
      "cell_type": "markdown",
      "metadata": {
        "id": "lWgCb9SajwCf"
      },
      "source": [
        "## Caso 2: Sistema de 2º Ordem sendo avaliado por diversas ordens"
      ]
    },
    {
      "cell_type": "code",
      "execution_count": 9,
      "metadata": {
        "id": "S5Ay3Uo9kAzJ"
      },
      "outputs": [],
      "source": [
        "x = np.matrix(np.arange(0,10,1)+np.random.uniform(0,1,10))\n",
        "y = np.matrix((56*np.power(x,2)+30*x+32)+(np.random.uniform(0,1,10)))"
      ]
    },
    {
      "cell_type": "code",
      "execution_count": 10,
      "metadata": {
        "colab": {
          "base_uri": "https://localhost:8080/"
        },
        "id": "GKbbZLICkArJ",
        "outputId": "701e7fbb-a81b-4244-e3ee-c8d01ad03799"
      },
      "outputs": [
        {
          "name": "stdout",
          "output_type": "stream",
          "text": [
            "[[577.39019679]] [[-856.6622928]]\n",
            "[[  38.19252692  265.16840987  495.18927545 1001.1958278  1452.51030337\n",
            "  1755.9905606  2236.86436562 3575.67921882 4299.74112173 5198.82666301]] \n",
            " [[-767.21002629  175.84862544  654.65615244 1394.529807   1900.10448037\n",
            "  2195.17421195 2614.32950627 3583.9620015  4031.33363214 4536.62988238]]\n",
            "1372.2649602743147\n",
            "0.9339945986980158\n"
          ]
        }
      ],
      "source": [
        "tam = np.size(x.T,0) # Quantidade de valores analisados\n",
        "mx = np.concatenate((x.T, np.ones((tam,1))),1)\n",
        "a, b = MMQ(y.T,mx)\n",
        "yEstimado = a*x+b # Y estimado\n",
        "print(a, b)\n",
        "print(y, '\\n', yEstimado)\n",
        "print(RMSE(y,yEstimado))\n",
        "print(calcular_r2(y,yEstimado))"
      ]
    },
    {
      "cell_type": "code",
      "execution_count": 11,
      "metadata": {
        "colab": {
          "base_uri": "https://localhost:8080/"
        },
        "id": "LhIn0YSzkAia",
        "outputId": "1d3cd912-783a-4828-e237-0c4ca45b6e09"
      },
      "outputs": [
        {
          "name": "stdout",
          "output_type": "stream",
          "text": [
            "[[55.9741332]] [[30.25840417]] [[32.21368926]]\n",
            "[[  38.19252692  265.16840987  495.18927545 1001.1958278  1452.51030337\n",
            "  1755.9905606  2236.86436562 3575.67921882 4299.74112173 5198.82666301]] \n",
            " [[  38.24495744  265.31665995  494.91076973 1001.07897176 1452.67729883\n",
            "  1755.91018586 2236.92566229 3575.7547409  4299.90317331 5198.63585313]]\n",
            "0.47161995820954244\n",
            "0.9999999922037119\n"
          ]
        }
      ],
      "source": [
        "tam = np.size(x.T,0) # Quantidade de valores analisados\n",
        "mx = np.concatenate((np.power(x.T,2), x.T, np.ones((tam,1))),1)\n",
        "a, b, c = MMQ(y.T,mx)\n",
        "yEstimado = a*np.power(x,2)+b*x+c # Y estimado\n",
        "print(a, b, c)\n",
        "print(y, '\\n', yEstimado)\n",
        "print(RMSE(y,yEstimado))\n",
        "print(calcular_r2(y,yEstimado))"
      ]
    },
    {
      "cell_type": "code",
      "execution_count": 12,
      "metadata": {
        "colab": {
          "base_uri": "https://localhost:8080/"
        },
        "id": "Ct8U1TOAkATg",
        "outputId": "5b7e90bb-19cf-41ca-94e6-687a04276ce0"
      },
      "outputs": [
        {
          "name": "stdout",
          "output_type": "stream",
          "text": [
            "[[0.00441082]] [[55.91152629]] [[30.48581319]] [[32.07008222]]\n",
            "[[  38.19252692  265.16840987  495.18927545 1001.1958278  1452.51030337\n",
            "  1755.9905606  2236.86436562 3575.67921882 4299.74112173 5198.82666301]] \n",
            " [[  38.1350955   265.40473318  495.01256718 1001.13171914 1452.67234441\n",
            "  1755.87082046 2236.8448523  3575.66346955 4299.87395608 5198.7487154 ]]\n",
            "0.3992836130285267\n",
            "0.99999999441187\n"
          ]
        }
      ],
      "source": [
        "tam = np.size(x.T,0) # Quantidade de valores analisados\n",
        "mx = np.concatenate((np.power(x.T,3), np.power(x.T,2), x.T, np.ones((tam,1))),1)\n",
        "a, b, c, d = MMQ(y.T,mx)\n",
        "yEstimado = a*np.power(x,3)+b*np.power(x,2)+c*x+d # Y estimado\n",
        "print(a, b, c, d)\n",
        "print(y, '\\n', yEstimado)\n",
        "print(RMSE(y,yEstimado))\n",
        "print(calcular_r2(y,yEstimado))"
      ]
    },
    {
      "cell_type": "markdown",
      "metadata": {
        "id": "x44DHEgukJ0l"
      },
      "source": [
        "## Caso 3: Pontos de um arquivo sendo avaliado por diversas ordens"
      ]
    },
    {
      "cell_type": "code",
      "execution_count": 13,
      "metadata": {
        "colab": {
          "base_uri": "https://localhost:8080/"
        },
        "id": "iM4CI1lsgnN_",
        "outputId": "4ed60c5b-705c-442e-9766-6927877a3f3c"
      },
      "outputs": [
        {
          "name": "stdout",
          "output_type": "stream",
          "text": [
            "[[ 635.  810.  965. 1125. 1310. 1465. 1630. 1785. 1965. 2105. 2278. 2435.\n",
            "  2600. 2764. 2940. 3130. 3345. 3600. 3920. 4095. 4095.]] [[ 4.    4.82  5.53  6.41  7.24  8.06  8.84  9.57 10.47 11.15 12.06 12.81\n",
            "  13.59 14.39 15.22 16.03 16.73 17.56 18.45 19.17 20.06]]\n"
          ]
        }
      ],
      "source": [
        "input = np.asmatrix(np.loadtxt('dados/dadosexp.txt', dtype='f', delimiter=','))\n",
        "print(input[:,0].T,input[:,1].T)\n",
        "x = input[:,0].T\n",
        "y = input[:,1].T"
      ]
    },
    {
      "cell_type": "code",
      "execution_count": 14,
      "metadata": {
        "id": "99fgQLaR1rQk"
      },
      "outputs": [
        {
          "name": "stdout",
          "output_type": "stream",
          "text": [
            "[[0.00452359]] [[1.45321418]]\n",
            "[[ 4.    4.82  5.53  6.41  7.24  8.06  8.84  9.57 10.47 11.15 12.06 12.81\n",
            "  13.59 14.39 15.22 16.03 16.73 17.56 18.45 19.17 20.06]] \n",
            " [[ 4.32569596  5.1173248   5.81848177  6.54225671  7.37912148  8.08027846\n",
            "   8.82667136  9.52782833 10.34207514 10.97537821 11.75795986 12.46816402\n",
            "  13.21455692 13.95642623 14.75257867 15.6120614  16.58463398 17.73815029\n",
            "  19.18570016 19.977329   19.977329  ]]\n",
            "1.5958354264938623\n",
            "0.9948297470450499\n"
          ]
        }
      ],
      "source": [
        "tam = np.size(x.T,0) # Quantidade de valores analisados\n",
        "mx = np.concatenate((x.T, np.ones((tam,1))),1)\n",
        "a, b = MMQ(y.T,mx)\n",
        "yEstimado = a*x+b # Y estimado\n",
        "print(a, b)\n",
        "print(y, '\\n', yEstimado)\n",
        "print(RMSE(y,yEstimado))\n",
        "print(calcular_r2(y,yEstimado))"
      ]
    },
    {
      "cell_type": "code",
      "execution_count": 15,
      "metadata": {},
      "outputs": [
        {
          "name": "stdout",
          "output_type": "stream",
          "text": [
            "[[-3.00668791e-07]] [[0.00599129]] [[5.26595232e-06]]\n",
            "[[ 4.    4.82  5.53  6.41  7.24  8.06  8.84  9.57 10.47 11.15 12.06 12.81\n",
            "  13.59 14.39 15.22 16.03 16.73 17.56 18.45 19.17 20.06]] \n",
            " [[ 3.68323438  4.65567772  5.50160548  6.35966751  7.33261155  8.13193564\n",
            "   8.96695371  9.73645146 10.61193141 11.27939031 12.08789788 12.80605254\n",
            "  13.54482653 14.26290022 15.01552387 15.80710679 16.67666463 17.67196552\n",
            "  18.86564751 19.4923969  19.4923969 ]]\n",
            "0.9746179713783435\n",
            "0.9980715676059184\n"
          ]
        }
      ],
      "source": [
        "tam = np.size(x.T,0) # Quantidade de valores analisados\n",
        "mx = np.concatenate((np.power(x.T,2), x.T, np.ones((tam,1))),1)\n",
        "a, b, c = MMQ(y.T,mx)\n",
        "yEstimado = a*np.power(x,2)+b*x+c # Y estimado\n",
        "print(a, b, c)\n",
        "print(y, '\\n', yEstimado)\n",
        "print(RMSE(y,yEstimado))\n",
        "print(calcular_r2(y,yEstimado))"
      ]
    },
    {
      "cell_type": "code",
      "execution_count": 16,
      "metadata": {},
      "outputs": [
        {
          "name": "stdout",
          "output_type": "stream",
          "text": [
            "[[-6.98334731e-10]] [[3.94866639e-06]] [[2.80006029e-09]] [[1.63723981e-12]]\n",
            "[[ 4.    4.82  5.53  6.41  7.24  8.06  8.84  9.57 10.47 11.15 12.06 12.81\n",
            "  13.59 14.39 15.22 16.03 16.73 17.56 18.45 19.17 20.06]] \n",
            " [[ 1.41339566  2.21959859  3.04955354  4.00322544  5.20639013  6.27901285\n",
            "   7.46690535  8.60962745  9.9482149  10.98306244 12.2356108  13.33021701\n",
            "  14.41906123 15.42049929 16.38449036 17.27075535 18.0449598  18.59322135\n",
            "  18.61170629 18.26123942 18.26123942]]\n",
            "6.90243076243305\n",
            "0.9032747845749934\n"
          ]
        }
      ],
      "source": [
        "tam = np.size(x.T,0) # Quantidade de valores analisados\n",
        "mx = np.concatenate((np.power(x.T,3), np.power(x.T,2), x.T, np.ones((tam,1))),1)\n",
        "a, b, c, d = MMQ(y.T,mx)\n",
        "yEstimado = a*np.power(x,3)+b*np.power(x,2)+c*x+d # Y estimado\n",
        "print(a, b, c, d)\n",
        "print(y, '\\n', yEstimado)\n",
        "print(RMSE(y,yEstimado))\n",
        "print(calcular_r2(y,yEstimado))"
      ]
    }
  ],
  "metadata": {
    "colab": {
      "provenance": []
    },
    "kernelspec": {
      "display_name": "Python 3",
      "name": "python3"
    },
    "language_info": {
      "codemirror_mode": {
        "name": "ipython",
        "version": 3
      },
      "file_extension": ".py",
      "mimetype": "text/x-python",
      "name": "python",
      "nbconvert_exporter": "python",
      "pygments_lexer": "ipython3",
      "version": "3.12.4"
    }
  },
  "nbformat": 4,
  "nbformat_minor": 0
}
